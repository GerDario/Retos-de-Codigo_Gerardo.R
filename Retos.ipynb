{
 "cells": [
  {
   "cell_type": "markdown",
   "id": "7bd27e59-b6f9-40aa-a04f-de034aee2708",
   "metadata": {},
   "source": [
    "# Retos de código"
   ]
  },
  {
   "cell_type": "markdown",
   "id": "529a1b52-b30d-45c5-a45d-dc3d39b0eb30",
   "metadata": {},
   "source": [
    "## Reto Python – Minería"
   ]
  },
  {
   "cell_type": "code",
   "execution_count": 65,
   "id": "b770d149-36b1-4055-a0a7-eaa07be7c20d",
   "metadata": {},
   "outputs": [
    {
     "name": "stdout",
     "output_type": "stream",
     "text": [
      "Simulación de extracción en 5 bloques\n",
      "Bloque 1: Tonelaje = 1147 toneladas, Mineral extraído = 214.49 kg\n",
      "Bloque 2: Tonelaje = 1672 toneladas, Mineral extraído = 312.66 kg\n",
      "Bloque 3: Tonelaje = 1719 toneladas, Mineral extraído = 321.45 kg\n",
      "Bloque 4: Tonelaje = 1860 toneladas, Mineral extraído = 347.82 kg\n",
      "Bloque 5: Tonelaje = 1900 toneladas, Mineral extraído = 355.30 kg\n",
      "Total de mineral valioso extraído en 5 bloques: 1551.73 kg\n"
     ]
    }
   ],
   "source": [
    "import random\n",
    "\n",
    "def calcular_mineral_valioso(tonelaje, ley_cabeza, dilucion, recuperacion):\n",
    "    try:\n",
    "        # Verificar que los valores sean positivos\n",
    "        if tonelaje <= 0 or ley_cabeza <= 0 or dilucion < 0 or recuperacion <= 0:\n",
    "            raise ValueError(\"Los valores deben ser positivos y la dilución no puede ser negativa.\")\n",
    "        \n",
    "        # Calcular mineral valioso extraído en kg\n",
    "        mineral_valioso = tonelaje * (1 - dilucion) * (ley_cabeza / 100) * (recuperacion / 100) * 1000\n",
    "        return mineral_valioso\n",
    "    except TypeError:\n",
    "        return \"Error: Se han ingresado datos inválidos.\"\n",
    "    except ValueError as e:\n",
    "        return f\"Error: {e}\"\n",
    "\n",
    "# Datos iniciales\n",
    "ley_cabeza = 2.5  # en porcentaje\n",
    "dilucion = 0.12  # 12%\n",
    "recuperacion = 0.85  # 85%\n",
    "\n",
    "# Cálculo de 1 bloque\n",
    "\n",
    "    tonelaje = 1500 # 1500 toneladas\n",
    "    mineral_1Bloque = calcular_mineral_valioso(tonelaje_1, ley_cabeza, dilucion, recuperacion)\n",
    "       print(f\"Cálculo de 1 bloque\")\n",
    "       print(f\"1er Bloque 1: Tonelaje = {tonelaje} toneladas, Mineral valioso extraído = {mineral_1Bloque:.2f} kg\")\n",
    "\n",
    "\n",
    "# Simulación de extracción en 5 bloques\n",
    "total_mineral_extraido = 0\n",
    "\n",
    "print(f\"Simulación de extracción en 5 bloques\")\n",
    "for i in range(5):\n",
    "    tonelaje = random.randint(1000, 2000)  # Generar tonelaje aleatorio entre 1000 y 2000 toneladas\n",
    "    mineral_extraido = calcular_mineral_valioso(tonelaje, ley_cabeza, dilucion, recuperacion)\n",
    "    print(f\"Bloque {i+1}: Tonelaje = {tonelaje} toneladas, Mineral extraído = {mineral_extraido:.2f} kg\")\n",
    "    total_mineral_extraido += mineral_extraido\n",
    "\n",
    "print(f\"Total de mineral valioso extraído en 5 bloques: {total_mineral_extraido:.2f} kg\")\n"
   ]
  },
  {
   "cell_type": "markdown",
   "id": "dc6a626e-871e-4e1c-9763-7c80d432c837",
   "metadata": {},
   "source": [
    "## Reto Python - Geología"
   ]
  },
  {
   "cell_type": "code",
   "execution_count": 67,
   "id": "4fa48096-6328-4819-a479-304379532823",
   "metadata": {},
   "outputs": [
    {
     "name": "stdout",
     "output_type": "stream",
     "text": [
      "Volumen total mineralizado: 99.99 m^3 (metros cúbicos)\n"
     ]
    }
   ],
   "source": [
    "import numpy as np\n",
    "\n",
    "def calcular_volumen_mineralizado(coordenadas, contenido_mineral):\n",
    "    if len(coordenadas) != len(contenido_mineral) or len(coordenadas) < 2:\n",
    "        raise ValueError(\"Los datos de coordenadas y contenido mineral deben tener la misma longitud y al menos dos perforaciones.\")\n",
    "    \n",
    "    radio_influencia = 5  # metros\n",
    "    area_influencia = np.pi * (radio_influencia ** 2)  # Área de influencia de cada perforación\n",
    "    volumen_total = 0\n",
    "    \n",
    "    for i in range(len(coordenadas) - 1):\n",
    "        distancia = np.linalg.norm(np.array(coordenadas[i]) - np.array(coordenadas[i + 1]))\n",
    "        volumen_parcial = area_influencia * distancia\n",
    "        contenido_promedio = (contenido_mineral[i] + contenido_mineral[i + 1]) / 2\n",
    "        volumen_total += volumen_parcial * (contenido_promedio / 100)  # Convertir porcentaje a fracción\n",
    "    \n",
    "    return volumen_total\n",
    "\n",
    "# Ejemplo de uso\n",
    "coordenadas = [(0, 0, 1000), (10, 0, 1018), (20, 0, 1010), (30, 0, 1015)]  # Ejemplo de perforaciones equidistantes\n",
    "contenido_mineral = [2.5, 3.0, 2.8, 3.2]  # Ejemplo de contenido de mineral en porcentaje\n",
    "\n",
    "volumen_mineralizado = calcular_volumen_mineralizado(coordenadas, contenido_mineral)\n",
    "print(f\"Volumen total mineralizado: {volumen_mineralizado:.2f} m^3 (metros cúbicos)\")\n"
   ]
  },
  {
   "cell_type": "markdown",
   "id": "520a583e-6d94-4842-a81b-b8a783760c7a",
   "metadata": {},
   "source": [
    "## Reto Python – Metalurgia"
   ]
  },
  {
   "cell_type": "code",
   "execution_count": 69,
   "id": "bf3f9955-8f24-4323-baab-4f192a23e0d0",
   "metadata": {},
   "outputs": [
    {
     "name": "stdout",
     "output_type": "stream",
     "text": [
      "Eficiencia del proceso de flotación: 75.0%\n"
     ]
    }
   ],
   "source": [
    "def calcular_eficiencia_flotacion(ley_cabeza, tonelaje_procesado, ley_concentrado, tonelaje_concentrado):\n",
    "    try:\n",
    "        # Verificar que los valores sean positivos\n",
    "        if any(valor <= 0 for valor in [ley_cabeza, tonelaje_procesado, ley_concentrado, tonelaje_concentrado]):\n",
    "            raise ValueError(\"Todos los valores deben ser positivos y mayores a cero.\")\n",
    "        \n",
    "        # Calcular la eficiencia del proceso\n",
    "        eficiencia = (ley_concentrado * tonelaje_concentrado) / (ley_cabeza * tonelaje_procesado) * 100\n",
    "        return round(eficiencia, 2)\n",
    "    \n",
    "    except ZeroDivisionError:\n",
    "        return \"Error: División por cero, verifica los valores ingresados.\"\n",
    "    except ValueError as e:\n",
    "        return f\"Error: {e}\"\n",
    "    except Exception as e:\n",
    "        return f\"Error inesperado: {e}\"\n",
    "\n",
    "# Datos proporcionados\n",
    "ley_cabeza = 4  # %\n",
    "tonelaje_procesado = 1000  # toneladas\n",
    "ley_concentrado = 20  # %\n",
    "tonelaje_concentrado = 150  # toneladas\n",
    "\n",
    "# Cálculo de la eficiencia\n",
    "eficiencia = calcular_eficiencia_flotacion(ley_cabeza, tonelaje_procesado, ley_concentrado, tonelaje_concentrado)\n",
    "print(f\"Eficiencia del proceso de flotación: {eficiencia}%\")\n"
   ]
  },
  {
   "cell_type": "markdown",
   "id": "f3f6983b-119d-4328-bf21-a52622919887",
   "metadata": {},
   "source": [
    "## Reto Python - Mantenimiento"
   ]
  },
  {
   "cell_type": "code",
   "execution_count": 71,
   "id": "51e0dd12-eef8-496c-9937-d4eca9b64e88",
   "metadata": {},
   "outputs": [
    {
     "name": "stdout",
     "output_type": "stream",
     "text": [
      "Máquina 1: 69.03% de operación\n",
      "Máquina 2: 53.48% de operación\n",
      "Máquina 3: 44.5% de operación\n"
     ]
    }
   ],
   "source": [
    "from datetime import datetime\n",
    "\n",
    "def calcular_porcentaje_operativo(actividades):\n",
    "    try:\n",
    "        # Diccionario para almacenar el tiempo total y el tiempo operativo de cada máquina\n",
    "        maquinas = {}\n",
    "\n",
    "        for actividad in actividades:\n",
    "            try:\n",
    "                maquina, hora_inicio, hora_fin, tipo = actividad\n",
    "                \n",
    "                # Convertir horas a formato datetime\n",
    "                hora_inicio = datetime.strptime(hora_inicio, \"%H:%M\")\n",
    "                hora_fin = datetime.strptime(hora_fin, \"%H:%M\")\n",
    "                \n",
    "                if hora_fin <= hora_inicio:\n",
    "                    raise ValueError(f\"Error en los tiempos de la máquina {maquina}: la hora de fin debe ser mayor que la de inicio.\")\n",
    "\n",
    "                # Calcular la duración de la actividad en horas\n",
    "                duracion = (hora_fin - hora_inicio).seconds / 3600\n",
    "\n",
    "                if maquina not in maquinas:\n",
    "                    maquinas[maquina] = {\"total\": 0, \"operativo\": 0}\n",
    "\n",
    "                maquinas[maquina][\"total\"] += duracion\n",
    "                if tipo.lower() == \"operación\":\n",
    "                    maquinas[maquina][\"operativo\"] += duracion\n",
    "\n",
    "            except Exception as e:\n",
    "                print(f\"Error procesando actividad {actividad}: {e}\")\n",
    "\n",
    "        # Calcular y mostrar el porcentaje operativo de cada máquina\n",
    "        porcentajes = {}\n",
    "        for maquina, tiempos in maquinas.items():\n",
    "            if tiempos[\"total\"] > 0:\n",
    "                porcentaje_operativo = (tiempos[\"operativo\"] / tiempos[\"total\"]) * 100\n",
    "                porcentajes[maquina] = round(porcentaje_operativo, 2)\n",
    "            else:\n",
    "                porcentajes[maquina] = 0  # Si no hay registros válidos, porcentaje 0\n",
    "\n",
    "        return porcentajes\n",
    "\n",
    "    except Exception as e:\n",
    "        return f\"Error general: {e}\"\n",
    "\n",
    "# Datos de entrada (Ejemplo)\n",
    "actividades = [\n",
    "    (\"Máquina 1\", \"08:00\", \"12:00\", \"operación\"),\n",
    "    (\"Máquina 1\", \"12:00\", \"14:00\", \"inactividad\"),\n",
    "    (\"Máquina 1\", \"14:00\", \"18:17\", \"operación\"),\n",
    "    (\"Máquina 2\", \"09:00\", \"11:35\", \"operación\"),\n",
    "    (\"Máquina 2\", \"11:35\", \"15:14\", \"inactividad\"),\n",
    "    (\"Máquina 2\", \"15:14\", \"18:32\", \"operación\"),\n",
    "    (\"Máquina 3\", \"09:15\", \"11:18\", \"operación\"),\n",
    "    (\"Máquina 3\", \"11:18\", \"16:16\", \"inactividad\"),\n",
    "    (\"Máquina 3\", \"16:16\", \"19:00\", \"operación\"),\n",
    "    (\"Máquina 1\", \"18:17\", \"20:00\", \"inactividad\"),\n",
    "    (\"Máquina 2\", \"18:32\", \"20:00\", \"inactividad\"),\n",
    "    (\"Máquina 3\", \"19:00\", \"20:00\", \"inactividad\"),\n",
    "]\n",
    "\n",
    "# Calcular el porcentaje operativo\n",
    "resultados = calcular_porcentaje_operativo(actividades)\n",
    "\n",
    "# Mostrar los resultados\n",
    "for maquina, porcentaje in resultados.items():\n",
    "    print(f\"{maquina}: {porcentaje}% de operación\")\n"
   ]
  }
 ],
 "metadata": {
  "kernelspec": {
   "display_name": "Python [conda env:base] *",
   "language": "python",
   "name": "conda-base-py"
  },
  "language_info": {
   "codemirror_mode": {
    "name": "ipython",
    "version": 3
   },
   "file_extension": ".py",
   "mimetype": "text/x-python",
   "name": "python",
   "nbconvert_exporter": "python",
   "pygments_lexer": "ipython3",
   "version": "3.12.7"
  }
 },
 "nbformat": 4,
 "nbformat_minor": 5
}
